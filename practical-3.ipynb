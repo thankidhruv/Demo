{
 "cells": [
  {
   "cell_type": "code",
   "execution_count": 1,
   "id": "9a3e31f6",
   "metadata": {
    "_cell_guid": "b1076dfc-b9ad-4769-8c92-a6c4dae69d19",
    "_uuid": "8f2839f25d086af736a60e9eeb907d3b93b6e0e5",
    "execution": {
     "iopub.execute_input": "2023-11-08T07:49:09.927176Z",
     "iopub.status.busy": "2023-11-08T07:49:09.926781Z",
     "iopub.status.idle": "2023-11-08T07:49:09.942314Z",
     "shell.execute_reply": "2023-11-08T07:49:09.941149Z"
    },
    "papermill": {
     "duration": 0.023094,
     "end_time": "2023-11-08T07:49:09.945243",
     "exception": false,
     "start_time": "2023-11-08T07:49:09.922149",
     "status": "completed"
    },
    "tags": []
   },
   "outputs": [
    {
     "name": "stdout",
     "output_type": "stream",
     "text": [
      "Original array: [ 1  2  3  4  5  6  7  8  9 10 11 12 13 14]\n",
      "After splitting:\n",
      "[array([1, 2]), array([3, 4, 5, 6]), array([ 7,  8,  9, 10, 11, 12, 13, 14])]\n"
     ]
    }
   ],
   "source": [
    "## Dhruv Thanki \n",
    "## 216270307058\n",
    "import numpy as np\n",
    "a2074 = np.arange(1, 15)\n",
    "print(\"Original array:\",a2074)\n",
    "print(\"After splitting:\")\n",
    "print(np.split(a2074, [2, 6]))\n"
   ]
  },
  {
   "cell_type": "code",
   "execution_count": 2,
   "id": "d98bee8e",
   "metadata": {
    "execution": {
     "iopub.execute_input": "2023-11-08T07:49:09.953890Z",
     "iopub.status.busy": "2023-11-08T07:49:09.953519Z",
     "iopub.status.idle": "2023-11-08T07:49:09.963561Z",
     "shell.execute_reply": "2023-11-08T07:49:09.962371Z"
    },
    "papermill": {
     "duration": 0.01851,
     "end_time": "2023-11-08T07:49:09.966368",
     "exception": false,
     "start_time": "2023-11-08T07:49:09.947858",
     "status": "completed"
    },
    "tags": []
   },
   "outputs": [
    {
     "data": {
      "text/plain": [
       "array([2, 0, 6, 2, 7, 0, 3, 0, 7, 0, 7, 4])"
      ]
     },
     "execution_count": 2,
     "metadata": {},
     "output_type": "execute_result"
    }
   ],
   "source": [
    "#2.to stack arrays horizontally (column wise)\n",
    "b2074=np.array((2,0,6,2,7,0))\n",
    "c2074=np.array((3,0,7,0,7,4))\n",
    "np.hstack((b2074,c2074))"
   ]
  },
  {
   "cell_type": "code",
   "execution_count": null,
   "id": "3557010f",
   "metadata": {
    "jupyter": {
     "source_hidden": true
    },
    "papermill": {
     "duration": 0.002172,
     "end_time": "2023-11-08T07:49:09.971128",
     "exception": false,
     "start_time": "2023-11-08T07:49:09.968956",
     "status": "completed"
    },
    "tags": []
   },
   "outputs": [],
   "source": []
  }
 ],
 "metadata": {
  "kernelspec": {
   "display_name": "Python 3",
   "language": "python",
   "name": "python3"
  },
  "language_info": {
   "codemirror_mode": {
    "name": "ipython",
    "version": 3
   },
   "file_extension": ".py",
   "mimetype": "text/x-python",
   "name": "python",
   "nbconvert_exporter": "python",
   "pygments_lexer": "ipython3",
   "version": "3.10.12"
  },
  "papermill": {
   "default_parameters": {},
   "duration": 4.264301,
   "end_time": "2023-11-08T07:49:10.394467",
   "environment_variables": {},
   "exception": null,
   "input_path": "__notebook__.ipynb",
   "output_path": "__notebook__.ipynb",
   "parameters": {},
   "start_time": "2023-11-08T07:49:06.130166",
   "version": "2.4.0"
  }
 },
 "nbformat": 4,
 "nbformat_minor": 5
}
