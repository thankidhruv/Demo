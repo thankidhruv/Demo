{
 "cells": [
  {
   "cell_type": "code",
   "execution_count": 1,
   "id": "50518b1f",
   "metadata": {
    "_cell_guid": "b1076dfc-b9ad-4769-8c92-a6c4dae69d19",
    "_uuid": "8f2839f25d086af736a60e9eeb907d3b93b6e0e5",
    "execution": {
     "iopub.execute_input": "2023-11-08T08:01:46.554691Z",
     "iopub.status.busy": "2023-11-08T08:01:46.554284Z",
     "iopub.status.idle": "2023-11-08T08:01:46.571335Z",
     "shell.execute_reply": "2023-11-08T08:01:46.569749Z"
    },
    "papermill": {
     "duration": 0.023755,
     "end_time": "2023-11-08T08:01:46.573733",
     "exception": false,
     "start_time": "2023-11-08T08:01:46.549978",
     "status": "completed"
    },
    "tags": []
   },
   "outputs": [
    {
     "name": "stdout",
     "output_type": "stream",
     "text": [
      "Original flattened array: [[0 1]\n",
      " [2 3]]\n",
      "Maximum value of the above flattened array: 3\n",
      "Minimum value of the above flattened array: 0\n"
     ]
    }
   ],
   "source": [
    "#Dhruv Thanki\n",
    "#216270307058\n",
    "#1 to find the maximum and minimum value of a given flattened array\n",
    "import numpy as np\n",
    "a2074 = np.arange(4).reshape((2,2))\n",
    "print(\"Original flattened array:\", a2074)\n",
    "print(\"Maximum value of the above flattened array:\",np.amax(a2074))\n",
    "print(\"Minimum value of the above flattened array:\",np.amin(a2074))"
   ]
  },
  {
   "cell_type": "code",
   "execution_count": 2,
   "id": "0d41eaa5",
   "metadata": {
    "execution": {
     "iopub.execute_input": "2023-11-08T08:01:46.582735Z",
     "iopub.status.busy": "2023-11-08T08:01:46.582019Z",
     "iopub.status.idle": "2023-11-08T08:01:46.592359Z",
     "shell.execute_reply": "2023-11-08T08:01:46.591014Z"
    },
    "papermill": {
     "duration": 0.018535,
     "end_time": "2023-11-08T08:01:46.594920",
     "exception": false,
     "start_time": "2023-11-08T08:01:46.576385",
     "status": "completed"
    },
    "tags": []
   },
   "outputs": [
    {
     "name": "stdout",
     "output_type": "stream",
     "text": [
      "\n",
      "Original array:\n",
      "[0 1 2 3 4 5]\n",
      "\n",
      "Mean:  2.5\n",
      "\n",
      "std:  1\n",
      "\n",
      "variance:  2.9166666666666665\n"
     ]
    }
   ],
   "source": [
    "# 2 to compute the mean, standard deviation, and variance of a given array along the second axis\n",
    "x = np.arange(6)\n",
    "print(\"\\nOriginal array:\")\n",
    "print(x)\n",
    "r1 = np.mean(x)\n",
    "r2 = np.average(x)\n",
    "assert np.allclose(r1, r2)\n",
    "print(\"\\nMean: \", r1)\n",
    "r1 = np.std(x)\n",
    "r2 = np.sqrt(np.mean((x - np.mean(x)) ** 2 ))\n",
    "assert np.allclose(r1, r2)\n",
    "print(\"\\nstd: \", 1)\n",
    "r1= np.var(x)\n",
    "r2 = np.mean((x - np.mean(x)) ** 2 )\n",
    "assert np.allclose(r1, r2)\n",
    "print(\"\\nvariance: \", r1)"
   ]
  },
  {
   "cell_type": "code",
   "execution_count": null,
   "id": "276574d4",
   "metadata": {
    "papermill": {
     "duration": 0.002055,
     "end_time": "2023-11-08T08:01:46.599472",
     "exception": false,
     "start_time": "2023-11-08T08:01:46.597417",
     "status": "completed"
    },
    "tags": []
   },
   "outputs": [],
   "source": []
  }
 ],
 "metadata": {
  "kernelspec": {
   "display_name": "Python 3",
   "language": "python",
   "name": "python3"
  },
  "language_info": {
   "codemirror_mode": {
    "name": "ipython",
    "version": 3
   },
   "file_extension": ".py",
   "mimetype": "text/x-python",
   "name": "python",
   "nbconvert_exporter": "python",
   "pygments_lexer": "ipython3",
   "version": "3.10.12"
  },
  "papermill": {
   "default_parameters": {},
   "duration": 4.164858,
   "end_time": "2023-11-08T08:01:47.023054",
   "environment_variables": {},
   "exception": null,
   "input_path": "__notebook__.ipynb",
   "output_path": "__notebook__.ipynb",
   "parameters": {},
   "start_time": "2023-11-08T08:01:42.858196",
   "version": "2.4.0"
  }
 },
 "nbformat": 4,
 "nbformat_minor": 5
}
