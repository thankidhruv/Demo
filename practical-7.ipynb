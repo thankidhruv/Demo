{
 "cells": [
  {
   "cell_type": "code",
   "execution_count": 1,
   "id": "4fd96bbb",
   "metadata": {
    "_cell_guid": "b1076dfc-b9ad-4769-8c92-a6c4dae69d19",
    "_uuid": "8f2839f25d086af736a60e9eeb907d3b93b6e0e5",
    "execution": {
     "iopub.execute_input": "2023-11-08T08:21:39.694326Z",
     "iopub.status.busy": "2023-11-08T08:21:39.694024Z",
     "iopub.status.idle": "2023-11-08T08:21:40.004219Z",
     "shell.execute_reply": "2023-11-08T08:21:40.003375Z"
    },
    "papermill": {
     "duration": 0.315929,
     "end_time": "2023-11-08T08:21:40.006551",
     "exception": false,
     "start_time": "2023-11-08T08:21:39.690622",
     "status": "completed"
    },
    "tags": []
   },
   "outputs": [
    {
     "name": "stdout",
     "output_type": "stream",
     "text": [
      "     Name  Age    Enrollment\n",
      "0  Kalpit   18  216270307074\n",
      "1   Dhruv   17  216270307058\n",
      "2   Sumit   18  216270307049\n"
     ]
    }
   ],
   "source": [
    "## Dhruv Thanki\n",
    "## 216270307058\n",
    "import pandas as pd \n",
    "import numpy as np\n",
    "details = { 'Name' : ['Kalpit', 'Dhruv', 'Sumit'],\n",
    "'Age' : [18, 17, 18],\n",
    "'Enrollment' : [216270307074, 216270307058, 216270307049] }\n",
    "print(pd.DataFrame(details, columns = ['Name', 'Age', 'Enrollment']))"
   ]
  },
  {
   "cell_type": "code",
   "execution_count": 2,
   "id": "8c7be0f1",
   "metadata": {
    "execution": {
     "iopub.execute_input": "2023-11-08T08:21:40.013371Z",
     "iopub.status.busy": "2023-11-08T08:21:40.012687Z",
     "iopub.status.idle": "2023-11-08T08:21:40.030489Z",
     "shell.execute_reply": "2023-11-08T08:21:40.029286Z"
    },
    "papermill": {
     "duration": 0.023878,
     "end_time": "2023-11-08T08:21:40.032270",
     "exception": false,
     "start_time": "2023-11-08T08:21:40.008392",
     "status": "completed"
    },
    "tags": []
   },
   "outputs": [
    {
     "name": "stdout",
     "output_type": "stream",
     "text": [
      "\n",
      "Data from Students.csv : \n",
      "        \\tName\\tAge\\tEnrollment\n",
      "0  0\\tKalpit\\t18\\t206270307074\n",
      "1   1\\tDhruv\\t17\\t216270307058\n",
      "2   2\\tSumit\\t18\\t216270307049\n"
     ]
    }
   ],
   "source": [
    "import pandas as pd\n",
    "import numpy as np\n",
    "details = { 'Name' : ['Kalpit', 'Dhruv', 'Sumit'],\n",
    "'Age' : [18, 17, 18],\n",
    "'Enrollment' : [206270307074, 216270307058, 216270307049] }\n",
    "data_frame = pd.DataFrame(details, columns = ['Name', 'Age', 'Enrollment'])\n",
    "data_frame.to_csv('Details.csv', sep = '\\t')\n",
    "# Saving as a CSV file\n",
    "new_data_frame = pd.read_csv('Details.csv')\n",
    "# loading the CSV file\n",
    "print('\\nData from Students.csv : \\n', new_data_frame)"
   ]
  },
  {
   "cell_type": "code",
   "execution_count": null,
   "id": "cb7c5110",
   "metadata": {
    "papermill": {
     "duration": 0.0014,
     "end_time": "2023-11-08T08:21:40.035527",
     "exception": false,
     "start_time": "2023-11-08T08:21:40.034127",
     "status": "completed"
    },
    "tags": []
   },
   "outputs": [],
   "source": []
  }
 ],
 "metadata": {
  "kernelspec": {
   "display_name": "Python 3",
   "language": "python",
   "name": "python3"
  },
  "language_info": {
   "codemirror_mode": {
    "name": "ipython",
    "version": 3
   },
   "file_extension": ".py",
   "mimetype": "text/x-python",
   "name": "python",
   "nbconvert_exporter": "python",
   "pygments_lexer": "ipython3",
   "version": "3.10.12"
  },
  "papermill": {
   "default_parameters": {},
   "duration": 6.088447,
   "end_time": "2023-11-08T08:21:43.095009",
   "environment_variables": {},
   "exception": null,
   "input_path": "__notebook__.ipynb",
   "output_path": "__notebook__.ipynb",
   "parameters": {},
   "start_time": "2023-11-08T08:21:37.006562",
   "version": "2.4.0"
  }
 },
 "nbformat": 4,
 "nbformat_minor": 5
}
