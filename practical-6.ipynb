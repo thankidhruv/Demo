{
 "cells": [
  {
   "cell_type": "code",
   "execution_count": 1,
   "id": "ad708083",
   "metadata": {
    "_cell_guid": "b1076dfc-b9ad-4769-8c92-a6c4dae69d19",
    "_uuid": "8f2839f25d086af736a60e9eeb907d3b93b6e0e5",
    "execution": {
     "iopub.execute_input": "2023-11-08T08:08:24.544470Z",
     "iopub.status.busy": "2023-11-08T08:08:24.543669Z",
     "iopub.status.idle": "2023-11-08T08:08:24.965021Z",
     "shell.execute_reply": "2023-11-08T08:08:24.963567Z"
    },
    "papermill": {
     "duration": 0.429663,
     "end_time": "2023-11-08T08:08:24.967805",
     "exception": false,
     "start_time": "2023-11-08T08:08:24.538142",
     "status": "completed"
    },
    "tags": []
   },
   "outputs": [
    {
     "name": "stdout",
     "output_type": "stream",
     "text": [
      "Array: [5 4 3 2 1]\n",
      "Series: 0    5\n",
      "1    4\n",
      "2    3\n",
      "3    2\n",
      "4    1\n",
      "dtype: int64\n"
     ]
    }
   ],
   "source": [
    "#Dhruv Thanki\n",
    "#216270307058\n",
    "#1 to convert a NumPy array to a Pandas series\n",
    "import pandas as pd\n",
    "import numpy as np\n",
    "a7074=np.array([5,4,3,2,1])\n",
    "print('Array:',a7074)\n",
    "b2074= pd.Series(a7074)\n",
    "print('Series:',b2074)"
   ]
  },
  {
   "cell_type": "code",
   "execution_count": 2,
   "id": "eca8b296",
   "metadata": {
    "execution": {
     "iopub.execute_input": "2023-11-08T08:08:24.977497Z",
     "iopub.status.busy": "2023-11-08T08:08:24.976921Z",
     "iopub.status.idle": "2023-11-08T08:08:24.994471Z",
     "shell.execute_reply": "2023-11-08T08:08:24.993171Z"
    },
    "papermill": {
     "duration": 0.024052,
     "end_time": "2023-11-08T08:08:24.996814",
     "exception": false,
     "start_time": "2023-11-08T08:08:24.972762",
     "status": "completed"
    },
    "tags": []
   },
   "outputs": [
    {
     "name": "stdout",
     "output_type": "stream",
     "text": [
      "   number   color\n",
      "0       1     red\n",
      "1       2    blue\n",
      "2       3   green\n",
      "3       4  orange\n",
      "First Column: 0    1\n",
      "1    2\n",
      "2    3\n",
      "3    4\n",
      "Name: number, dtype: int64\n"
     ]
    }
   ],
   "source": [
    "#2 to convert the first column of a DataFrame as a Series\n",
    "c2074=pd.DataFrame({'number':[1,2,3,4],'color':['red','blue','green','orange']})\n",
    "print(c2074)\n",
    "d2074=c2074['number']\n",
    "print('First Column:',d2074)"
   ]
  },
  {
   "cell_type": "code",
   "execution_count": 3,
   "id": "a487b384",
   "metadata": {
    "execution": {
     "iopub.execute_input": "2023-11-08T08:08:25.004284Z",
     "iopub.status.busy": "2023-11-08T08:08:25.003842Z",
     "iopub.status.idle": "2023-11-08T08:08:25.015349Z",
     "shell.execute_reply": "2023-11-08T08:08:25.013794Z"
    },
    "papermill": {
     "duration": 0.018335,
     "end_time": "2023-11-08T08:08:25.018119",
     "exception": false,
     "start_time": "2023-11-08T08:08:24.999784",
     "status": "completed"
    },
    "tags": []
   },
   "outputs": [
    {
     "name": "stdout",
     "output_type": "stream",
     "text": [
      "Series 0    12\n",
      "1    23\n",
      "2    35\n",
      "3    24\n",
      "4    55\n",
      "5    86\n",
      "6    57\n",
      "7    18\n",
      "8    49\n",
      "9    14\n",
      "dtype: int64\n",
      "Mean: 37.3\n",
      "Standard Deviation: 23.926043458030325\n"
     ]
    }
   ],
   "source": [
    "#3 to create the mean and standard deviation of the data of a given Series\n",
    "e2074=pd.Series([12,23,35,24,55,86,57,18,49,14])\n",
    "print('Series',e2074)\n",
    "f2074=print('Mean:',e2074.mean())\n",
    "g2074=print('Standard Deviation:',e2074.std())"
   ]
  },
  {
   "cell_type": "code",
   "execution_count": 4,
   "id": "7d42caef",
   "metadata": {
    "execution": {
     "iopub.execute_input": "2023-11-08T08:08:25.025723Z",
     "iopub.status.busy": "2023-11-08T08:08:25.025348Z",
     "iopub.status.idle": "2023-11-08T08:08:25.036857Z",
     "shell.execute_reply": "2023-11-08T08:08:25.035078Z"
    },
    "papermill": {
     "duration": 0.017936,
     "end_time": "2023-11-08T08:08:25.039127",
     "exception": false,
     "start_time": "2023-11-08T08:08:25.021191",
     "status": "completed"
    },
    "tags": []
   },
   "outputs": [
    {
     "name": "stdout",
     "output_type": "stream",
     "text": [
      "Ascending-Order: 0    12\n",
      "9    14\n",
      "7    18\n",
      "1    23\n",
      "3    24\n",
      "2    35\n",
      "8    49\n",
      "4    55\n",
      "6    57\n",
      "5    86\n",
      "dtype: int64\n",
      "Descending-Order: 5    86\n",
      "6    57\n",
      "4    55\n",
      "8    49\n",
      "2    35\n",
      "3    24\n",
      "1    23\n",
      "7    18\n",
      "9    14\n",
      "0    12\n",
      "dtype: int64\n"
     ]
    }
   ],
   "source": [
    "#4 to sort a given Series\n",
    "h2074=print('Ascending-Order:',e2074.sort_values(ascending=True))\n",
    "i2074=print('Descending-Order:',e2074.sort_values(ascending = False))"
   ]
  },
  {
   "cell_type": "code",
   "execution_count": null,
   "id": "f7a6d24b",
   "metadata": {
    "papermill": {
     "duration": 0.002717,
     "end_time": "2023-11-08T08:08:25.045015",
     "exception": false,
     "start_time": "2023-11-08T08:08:25.042298",
     "status": "completed"
    },
    "tags": []
   },
   "outputs": [],
   "source": []
  }
 ],
 "metadata": {
  "kernelspec": {
   "display_name": "Python 3",
   "language": "python",
   "name": "python3"
  },
  "language_info": {
   "codemirror_mode": {
    "name": "ipython",
    "version": 3
   },
   "file_extension": ".py",
   "mimetype": "text/x-python",
   "name": "python",
   "nbconvert_exporter": "python",
   "pygments_lexer": "ipython3",
   "version": "3.10.12"
  },
  "papermill": {
   "default_parameters": {},
   "duration": 4.915104,
   "end_time": "2023-11-08T08:08:25.671683",
   "environment_variables": {},
   "exception": null,
   "input_path": "__notebook__.ipynb",
   "output_path": "__notebook__.ipynb",
   "parameters": {},
   "start_time": "2023-11-08T08:08:20.756579",
   "version": "2.4.0"
  }
 },
 "nbformat": 4,
 "nbformat_minor": 5
}
