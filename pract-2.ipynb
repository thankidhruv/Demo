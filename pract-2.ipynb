{
 "cells": [
  {
   "cell_type": "markdown",
   "id": "902c032b",
   "metadata": {
    "_cell_guid": "696deecd-16f4-4576-a311-f3579b58b639",
    "_uuid": "887f7148-9988-48bb-a240-74f2fec5629d",
    "papermill": {
     "duration": 0.004198,
     "end_time": "2023-11-08T07:43:09.275477",
     "exception": false,
     "start_time": "2023-11-08T07:43:09.271279",
     "status": "completed"
    },
    "tags": []
   },
   "source": [
    "# 1. write a numpy program to convert list into numpy one dimensional array"
   ]
  },
  {
   "cell_type": "code",
   "execution_count": 1,
   "id": "4d8d1980",
   "metadata": {
    "_cell_guid": "c894571e-377d-4657-b429-4efce351a816",
    "_uuid": "d7d7dc02-7ffe-4766-80e9-6e1df3f61401",
    "collapsed": false,
    "execution": {
     "iopub.execute_input": "2023-11-08T07:43:09.288391Z",
     "iopub.status.busy": "2023-11-08T07:43:09.286871Z",
     "iopub.status.idle": "2023-11-08T07:43:09.305747Z",
     "shell.execute_reply": "2023-11-08T07:43:09.304826Z"
    },
    "jupyter": {
     "outputs_hidden": false
    },
    "papermill": {
     "duration": 0.029313,
     "end_time": "2023-11-08T07:43:09.308539",
     "exception": false,
     "start_time": "2023-11-08T07:43:09.279226",
     "status": "completed"
    },
    "tags": []
   },
   "outputs": [
    {
     "name": "stdout",
     "output_type": "stream",
     "text": [
      " PYTHON LIST :  [1, 2, 3, 4, 5, 6, 7, 8, 9, 10]\n",
      "\n",
      " CONVERTED NUMPY ARRAY :  [ 1  2  3  4  5  6  7  8  9 10]\n",
      "\n",
      " CHECKING DIMENSION OF NUMPY ARRAY :  1\n"
     ]
    }
   ],
   "source": [
    "## Dhruv Thanki \n",
    "## 216270307058\n",
    "import numpy as np\n",
    "\n",
    "# creating list of numeric values \n",
    "a = [1,2,3,4,5,6,7,8,9,10]\n",
    "\n",
    "# printing list \n",
    "print(\" PYTHON LIST : \",a)\n",
    "\n",
    "# converting list a into nupmy numeric array \n",
    "converted_list_into_array = np.array(a)\n",
    "print()\n",
    "\n",
    "# printing new numpy array\n",
    "print(\" CONVERTED NUMPY ARRAY : \",converted_list_into_array)\n",
    "print()\n",
    "\n",
    "#cheking dimension of converted list \n",
    "#ndim is used to check the dimension of numpy array\n",
    "print(\" CHECKING DIMENSION OF NUMPY ARRAY : \",converted_list_into_array.ndim)"
   ]
  },
  {
   "cell_type": "markdown",
   "id": "10469ca2",
   "metadata": {
    "_cell_guid": "072eb3ff-13c9-4645-ad20-25c49e0bce5b",
    "_uuid": "79c5deec-7b5a-4070-a718-a55d369445e1",
    "papermill": {
     "duration": 0.003451,
     "end_time": "2023-11-08T07:43:09.315849",
     "exception": false,
     "start_time": "2023-11-08T07:43:09.312398",
     "status": "completed"
    },
    "tags": []
   },
   "source": [
    "# 2. write a Numpy program to create a 3x3 matrix with values ranging from 2 to 10"
   ]
  },
  {
   "cell_type": "code",
   "execution_count": 2,
   "id": "2768c8df",
   "metadata": {
    "_cell_guid": "08014d1f-f592-4a75-b665-1e1e5d1f966f",
    "_uuid": "a1eca014-5213-491a-b2ca-d0ff29bf198b",
    "collapsed": false,
    "execution": {
     "iopub.execute_input": "2023-11-08T07:43:09.325819Z",
     "iopub.status.busy": "2023-11-08T07:43:09.325121Z",
     "iopub.status.idle": "2023-11-08T07:43:09.334260Z",
     "shell.execute_reply": "2023-11-08T07:43:09.332720Z"
    },
    "jupyter": {
     "outputs_hidden": false
    },
    "papermill": {
     "duration": 0.017467,
     "end_time": "2023-11-08T07:43:09.337089",
     "exception": false,
     "start_time": "2023-11-08T07:43:09.319622",
     "status": "completed"
    },
    "tags": []
   },
   "outputs": [
    {
     "name": "stdout",
     "output_type": "stream",
     "text": [
      " ARRAY :  [ 2  3  4  5  6  7  8  9 10]\n",
      "\n",
      " 3 X 3 MATRIX : \n",
      "\n",
      "[[ 2  3  4]\n",
      " [ 5  6  7]\n",
      " [ 8  9 10]]\n"
     ]
    }
   ],
   "source": [
    "import numpy as np \n",
    "\n",
    "# arange() function is used to create array within given range \n",
    "array = np.arange(2,11)\n",
    "\n",
    "#printing crated array\n",
    "print(\" ARRAY : \",array)\n",
    "print()\n",
    "\n",
    "# now reshapeing the created array into 3 X 3 matrix \n",
    "matrix_array = array.reshape(3,3)\n",
    "\n",
    "# now printing the matrix_array \n",
    "print(\" 3 X 3 MATRIX : \")\n",
    "print()\n",
    "print(matrix_array)"
   ]
  },
  {
   "cell_type": "markdown",
   "id": "d83b2a41",
   "metadata": {
    "_cell_guid": "c030a244-d706-4741-ba02-90c7729dfae2",
    "_uuid": "1f5b1956-67eb-4d64-87e7-df3ff14817b9",
    "papermill": {
     "duration": 0.003663,
     "end_time": "2023-11-08T07:43:09.344595",
     "exception": false,
     "start_time": "2023-11-08T07:43:09.340932",
     "status": "completed"
    },
    "tags": []
   },
   "source": [
    "# 3. write a program to append values at the end of the array"
   ]
  },
  {
   "cell_type": "code",
   "execution_count": 3,
   "id": "5f785767",
   "metadata": {
    "_cell_guid": "1469a3eb-7f39-4f9b-bc9c-a8b360b712cd",
    "_uuid": "db9a3faf-50d5-4f37-a425-72f5a1e3ed1a",
    "collapsed": false,
    "execution": {
     "iopub.execute_input": "2023-11-08T07:43:09.353983Z",
     "iopub.status.busy": "2023-11-08T07:43:09.353611Z",
     "iopub.status.idle": "2023-11-08T07:43:09.362456Z",
     "shell.execute_reply": "2023-11-08T07:43:09.360981Z"
    },
    "jupyter": {
     "outputs_hidden": false
    },
    "papermill": {
     "duration": 0.017135,
     "end_time": "2023-11-08T07:43:09.365449",
     "exception": false,
     "start_time": "2023-11-08T07:43:09.348314",
     "status": "completed"
    },
    "tags": []
   },
   "outputs": [
    {
     "name": "stdout",
     "output_type": "stream",
     "text": [
      "\n",
      " ARRAY BEFORE APPENDING THE VALUES :  [1 2 3 4 5]\n",
      "\n",
      " ARRAY AFTER APPENDING THE VALUES  :  [1 2 3 4 5 6 7]\n"
     ]
    }
   ],
   "source": [
    "import numpy as np\n",
    "\n",
    "# creating array with the help of np.array \n",
    "array = np.array([1,2,3,4,5])\n",
    "\n",
    "#appending values in array\n",
    "array2 = np.append(array, [6,7])\n",
    "print()\n",
    "\n",
    "# printing both array \n",
    "print(\" ARRAY BEFORE APPENDING THE VALUES : \",array)\n",
    "print()\n",
    "print(\" ARRAY AFTER APPENDING THE VALUES  : \",array2)"
   ]
  },
  {
   "cell_type": "markdown",
   "id": "e8ecf799",
   "metadata": {
    "_cell_guid": "37fd500e-77c4-4cc3-b3da-8d1eee9a6a8d",
    "_uuid": "a07e8d91-bec3-4739-98c0-889fee68ee4f",
    "papermill": {
     "duration": 0.003529,
     "end_time": "2023-11-08T07:43:09.372915",
     "exception": false,
     "start_time": "2023-11-08T07:43:09.369386",
     "status": "completed"
    },
    "tags": []
   },
   "source": [
    "# 4. write a program to create another shape from an array without changing its data(32 to 23)"
   ]
  },
  {
   "cell_type": "code",
   "execution_count": 4,
   "id": "5a87f4c4",
   "metadata": {
    "_cell_guid": "1f7fcbe2-27b8-4d2b-ab43-11199206bd88",
    "_uuid": "aea5334d-5643-4a8f-bef7-613acf8d5f3d",
    "collapsed": false,
    "execution": {
     "iopub.execute_input": "2023-11-08T07:43:09.382162Z",
     "iopub.status.busy": "2023-11-08T07:43:09.381786Z",
     "iopub.status.idle": "2023-11-08T07:43:09.390184Z",
     "shell.execute_reply": "2023-11-08T07:43:09.388762Z"
    },
    "jupyter": {
     "outputs_hidden": false
    },
    "papermill": {
     "duration": 0.016522,
     "end_time": "2023-11-08T07:43:09.393149",
     "exception": false,
     "start_time": "2023-11-08T07:43:09.376627",
     "status": "completed"
    },
    "tags": []
   },
   "outputs": [
    {
     "name": "stdout",
     "output_type": "stream",
     "text": [
      "\n",
      " 3 X 2 ARRAY : \n",
      "[[1 2]\n",
      " [1 2]\n",
      " [1 2]]\n",
      "\n",
      " 2 X 3 ARRAY : \n",
      "[[1 2 1]\n",
      " [2 1 2]]\n"
     ]
    }
   ],
   "source": [
    "import numpy as np\n",
    "\n",
    "# creating 3 X 2 array \n",
    "array = np.array([ [1,2] , [1,2], [1,2] ])\n",
    "\n",
    "# now changing the shape of 3 X 2 array\n",
    "array2 = array.reshape(2,3)\n",
    "\n",
    "# printing both arrays\n",
    "print()\n",
    "print(\" 3 X 2 ARRAY : \")\n",
    "print(array)\n",
    "\n",
    "print()\n",
    "print(\" 2 X 3 ARRAY : \")\n",
    "print(array2)"
   ]
  }
 ],
 "metadata": {
  "kernelspec": {
   "display_name": "Python 3",
   "language": "python",
   "name": "python3"
  },
  "language_info": {
   "codemirror_mode": {
    "name": "ipython",
    "version": 3
   },
   "file_extension": ".py",
   "mimetype": "text/x-python",
   "name": "python",
   "nbconvert_exporter": "python",
   "pygments_lexer": "ipython3",
   "version": "3.10.12"
  },
  "papermill": {
   "default_parameters": {},
   "duration": 4.205285,
   "end_time": "2023-11-08T07:43:09.818547",
   "environment_variables": {},
   "exception": null,
   "input_path": "__notebook__.ipynb",
   "output_path": "__notebook__.ipynb",
   "parameters": {},
   "start_time": "2023-11-08T07:43:05.613262",
   "version": "2.4.0"
  }
 },
 "nbformat": 4,
 "nbformat_minor": 5
}
