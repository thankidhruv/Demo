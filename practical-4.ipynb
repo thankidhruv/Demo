{
 "cells": [
  {
   "cell_type": "code",
   "execution_count": 1,
   "id": "944fc980",
   "metadata": {
    "_cell_guid": "b1076dfc-b9ad-4769-8c92-a6c4dae69d19",
    "_uuid": "8f2839f25d086af736a60e9eeb907d3b93b6e0e5",
    "execution": {
     "iopub.execute_input": "2023-11-08T07:53:55.460060Z",
     "iopub.status.busy": "2023-11-08T07:53:55.458929Z",
     "iopub.status.idle": "2023-11-08T07:53:55.476684Z",
     "shell.execute_reply": "2023-11-08T07:53:55.475750Z"
    },
    "papermill": {
     "duration": 0.025445,
     "end_time": "2023-11-08T07:53:55.479604",
     "exception": false,
     "start_time": "2023-11-08T07:53:55.454159",
     "status": "completed"
    },
    "tags": []
   },
   "outputs": [
    {
     "name": "stdout",
     "output_type": "stream",
     "text": [
      "Array before adding: [1 2 3 4 5 6]\n",
      "Array after adding: [3 4 5 6 7 8]\n",
      "Array after subtract: [2.5 3.5 4.5 5.5 6.5 7.5]\n",
      "Array after multiply: [ 3.75  5.25  6.75  8.25  9.75 11.25]\n",
      "Array after divide: [2.5 3.5 4.5 5.5 6.5 7.5]\n"
     ]
    }
   ],
   "source": [
    "#Dhruv Thanki\n",
    "#216270307058\n",
    "# 1.to add, subtract, multiply, divide arguments element-wise\n",
    "import numpy as np\n",
    "a2074=np.array([1,2,3,4,5,6])\n",
    "print(\"Array before adding:\",a2074)\n",
    "b2074=np.add(a2074,2)\n",
    "print(\"Array after adding:\",b2074)\n",
    "c2074=np.subtract(b2074,0.5)\n",
    "print(\"Array after subtract:\",c2074)\n",
    "d2074=np.multiply(c2074,1.5)\n",
    "print(\"Array after multiply:\",d2074)\n",
    "e2074=np.divide(d2074,1.5)\n",
    "print(\"Array after divide:\",e2074)"
   ]
  },
  {
   "cell_type": "code",
   "execution_count": 2,
   "id": "fc0dae30",
   "metadata": {
    "execution": {
     "iopub.execute_input": "2023-11-08T07:53:55.488586Z",
     "iopub.status.busy": "2023-11-08T07:53:55.488179Z",
     "iopub.status.idle": "2023-11-08T07:53:55.495802Z",
     "shell.execute_reply": "2023-11-08T07:53:55.494377Z"
    },
    "papermill": {
     "duration": 0.013735,
     "end_time": "2023-11-08T07:53:55.497991",
     "exception": false,
     "start_time": "2023-11-08T07:53:55.484256",
     "status": "completed"
    },
    "tags": []
   },
   "outputs": [
    {
     "name": "stdout",
     "output_type": "stream",
     "text": [
      "[1. 0. 2.]\n",
      "[1. 2.]\n",
      "[1. 2.]\n"
     ]
    }
   ],
   "source": [
    " #2.to round elements of the array to the nearest integer\n",
    "print(np.round([1.2,.3,1.9]))\n",
    "print(np.around([1.4,1.9]))\n",
    "print(np.rint([1.2,1.9]))"
   ]
  },
  {
   "cell_type": "code",
   "execution_count": 3,
   "id": "9475fe17",
   "metadata": {
    "execution": {
     "iopub.execute_input": "2023-11-08T07:53:55.505101Z",
     "iopub.status.busy": "2023-11-08T07:53:55.504749Z",
     "iopub.status.idle": "2023-11-08T07:53:55.511266Z",
     "shell.execute_reply": "2023-11-08T07:53:55.510226Z"
    },
    "papermill": {
     "duration": 0.013333,
     "end_time": "2023-11-08T07:53:55.514182",
     "exception": false,
     "start_time": "2023-11-08T07:53:55.500849",
     "status": "completed"
    },
    "tags": []
   },
   "outputs": [
    {
     "name": "stdout",
     "output_type": "stream",
     "text": [
      "before calculate [[10 10]\n",
      " [20 30]]\n",
      "[10. 25.]\n",
      "[15. 20.]\n"
     ]
    }
   ],
   "source": [
    "#3.to calculate mean across dimension, in a 2D numpy array \n",
    "f7074=np.array(([10,10],[20,30])) \n",
    "print(\"before calculate\",f7074)\n",
    "print(np.mean(f7074,axis=1))\n",
    "print(np.mean(f7074,axis=0))"
   ]
  },
  {
   "cell_type": "code",
   "execution_count": 4,
   "id": "b6e4a2f2",
   "metadata": {
    "execution": {
     "iopub.execute_input": "2023-11-08T07:53:55.521500Z",
     "iopub.status.busy": "2023-11-08T07:53:55.521166Z",
     "iopub.status.idle": "2023-11-08T07:53:55.527633Z",
     "shell.execute_reply": "2023-11-08T07:53:55.526438Z"
    },
    "papermill": {
     "duration": 0.013021,
     "end_time": "2023-11-08T07:53:55.530214",
     "exception": false,
     "start_time": "2023-11-08T07:53:55.517193",
     "status": "completed"
    },
    "tags": []
   },
   "outputs": [
    {
     "name": "stdout",
     "output_type": "stream",
     "text": [
      "[2 0 6 2 7 0 3 0 7 0 7 4]\n"
     ]
    }
   ],
   "source": [
    "# to calculate the difference between neighboring elements, element-wise of a\n",
    "#given array\n",
    "h7074=np.array([1,3,3,9,11,18,18,21,21,28,28,35,39])\n",
    "print(np.diff(h7074))"
   ]
  },
  {
   "cell_type": "code",
   "execution_count": null,
   "id": "eea21604",
   "metadata": {
    "papermill": {
     "duration": 0.00279,
     "end_time": "2023-11-08T07:53:55.536207",
     "exception": false,
     "start_time": "2023-11-08T07:53:55.533417",
     "status": "completed"
    },
    "tags": []
   },
   "outputs": [],
   "source": []
  }
 ],
 "metadata": {
  "kernelspec": {
   "display_name": "Python 3",
   "language": "python",
   "name": "python3"
  },
  "language_info": {
   "codemirror_mode": {
    "name": "ipython",
    "version": 3
   },
   "file_extension": ".py",
   "mimetype": "text/x-python",
   "name": "python",
   "nbconvert_exporter": "python",
   "pygments_lexer": "ipython3",
   "version": "3.10.12"
  },
  "papermill": {
   "default_parameters": {},
   "duration": 3.951146,
   "end_time": "2023-11-08T07:53:55.859355",
   "environment_variables": {},
   "exception": null,
   "input_path": "__notebook__.ipynb",
   "output_path": "__notebook__.ipynb",
   "parameters": {},
   "start_time": "2023-11-08T07:53:51.908209",
   "version": "2.4.0"
  }
 },
 "nbformat": 4,
 "nbformat_minor": 5
}
